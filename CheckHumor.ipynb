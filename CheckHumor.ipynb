{
  "nbformat": 4,
  "nbformat_minor": 0,
  "metadata": {
    "colab": {
      "name": "CheckHumor.ipynb",
      "provenance": [],
      "authorship_tag": "ABX9TyNr7+pGsroC7Sqo+cM/repT",
      "include_colab_link": true
    },
    "kernelspec": {
      "name": "python3",
      "display_name": "Python 3"
    },
    "language_info": {
      "name": "python"
    }
  },
  "cells": [
    {
      "cell_type": "markdown",
      "metadata": {
        "id": "view-in-github",
        "colab_type": "text"
      },
      "source": [
        "<a href=\"https://colab.research.google.com/github/mirkocangiano/CheckHumor/blob/main/CheckHumor.ipynb\" target=\"_parent\"><img src=\"https://colab.research.google.com/assets/colab-badge.svg\" alt=\"Open In Colab\"/></a>"
      ]
    },
    {
      "cell_type": "markdown",
      "source": [
        "Progetto Tesi di Laurea Mirko Cangiano CheckHumor"
      ],
      "metadata": {
        "id": "74-Edd-BXzGJ"
      }
    },
    {
      "cell_type": "code",
      "execution_count": null,
      "metadata": {
        "id": "x-6Y6WVMXf7B"
      },
      "outputs": [],
      "source": [
        ""
      ]
    }
  ]
}